{
 "cells": [
  {
   "cell_type": "markdown",
   "id": "7357079b",
   "metadata": {},
   "source": [
    "# Draw circle on frame"
   ]
  },
  {
   "cell_type": "code",
   "execution_count": 1,
   "id": "35397778",
   "metadata": {},
   "outputs": [],
   "source": [
    "import cv2\n",
    "\n",
    "def draw_circle(event, x,y,flags, param):\n",
    "    global center, clicked\n",
    "    \n",
    "    if event == cv2.EVENT_LBUTTONDOWN:\n",
    "        center = (x,y)\n",
    "        clicked = False\n",
    "        \n",
    "    if event == cv2.EVENT_LBUTTONUP:\n",
    "        clicked = True\n",
    "        \n",
    "        \n",
    "ceter = (0,0)\n",
    "clicked = False\n",
    "\n",
    "cap = cv2.VideoCapture(0)\n",
    "cv2.namedWindow('circle')\n",
    "cv2.setMouseCallback('circle', draw_circle)\n",
    "\n",
    "while True:\n",
    "    ret, frame = cap.read()\n",
    "    \n",
    "    if clicked:\n",
    "        cv2.circle(frame, center=center, radius = 5, color=(255,0,0) ,thickness=10)\n",
    "    \n",
    "    cv2.imshow('circle', frame)\n",
    "    if cv2.waitKey(10) & 0xff== ord('q'):\n",
    "        break\n",
    "        \n",
    "cap.release()\n",
    "cv2.destroyAllWindows()"
   ]
  },
  {
   "cell_type": "code",
   "execution_count": null,
   "id": "30dfc086",
   "metadata": {},
   "outputs": [],
   "source": []
  }
 ],
 "metadata": {
  "kernelspec": {
   "display_name": "Python 3",
   "language": "python",
   "name": "python3"
  },
  "language_info": {
   "codemirror_mode": {
    "name": "ipython",
    "version": 3
   },
   "file_extension": ".py",
   "mimetype": "text/x-python",
   "name": "python",
   "nbconvert_exporter": "python",
   "pygments_lexer": "ipython3",
   "version": "3.8.8"
  }
 },
 "nbformat": 4,
 "nbformat_minor": 5
}
