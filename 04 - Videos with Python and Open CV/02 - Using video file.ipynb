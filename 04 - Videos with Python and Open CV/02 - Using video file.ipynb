{
 "cells": [
  {
   "cell_type": "code",
   "execution_count": 1,
   "id": "f1992aff",
   "metadata": {},
   "outputs": [],
   "source": [
    "import cv2\n",
    "\n",
    "cap = cv2.VideoCapture(r'C:\\Users\\Data\\computer vision\\video\\sample.ts')\n",
    "\n",
    "if cap.isOpened() == False:\n",
    "    print('Error : File not found')\n",
    "    \n",
    "while cap.isOpened() == True:\n",
    "    ret, frame = cap.read()\n",
    "    \n",
    "    if ret == True :# vidoe still playing\n",
    "        cv2.imshow('frame', frame)\n",
    "        \n",
    "        if cv2.waitKey(10) & 0xff == 27:\n",
    "            break\n",
    "            \n",
    "    else:\n",
    "        break\n",
    "        \n",
    "cap.release()\n",
    "cv2.destroyAllWindows()    \n",
    "    "
   ]
  },
  {
   "cell_type": "code",
   "execution_count": 2,
   "id": "1b0c242b",
   "metadata": {},
   "outputs": [],
   "source": [
    "import cv2\n",
    "import time\n",
    "\n",
    "cap = cv2.VideoCapture(r'C:\\Users\\Data\\computer vision\\video\\Optical Flow Dense Open CV.mp4')\n",
    "\n",
    "if cap.isOpened() == False:\n",
    "    print('Video not found')\n",
    "    \n",
    "while cap.isOpened():\n",
    "    ret, frame = cap.read()\n",
    "    \n",
    "    if ret == True:\n",
    "        \n",
    "        time.sleep(1/20)\n",
    "        cv2.imshow('video', frame)\n",
    "        \n",
    "        if cv2.waitKey(10) & 0xff == 27:\n",
    "            break\n",
    "    else :\n",
    "        break\n",
    "cap.release()\n",
    "cv2.destroyAllWindows()"
   ]
  }
 ],
 "metadata": {
  "kernelspec": {
   "display_name": "Python 3",
   "language": "python",
   "name": "python3"
  },
  "language_info": {
   "codemirror_mode": {
    "name": "ipython",
    "version": 3
   },
   "file_extension": ".py",
   "mimetype": "text/x-python",
   "name": "python",
   "nbconvert_exporter": "python",
   "pygments_lexer": "ipython3",
   "version": "3.8.8"
  }
 },
 "nbformat": 4,
 "nbformat_minor": 5
}
