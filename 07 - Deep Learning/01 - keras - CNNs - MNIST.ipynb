{
 "cells": [
  {
   "cell_type": "markdown",
   "id": "84a7d62d",
   "metadata": {},
   "source": [
    "## Convolutional Neural Networks for Image Classification"
   ]
  },
  {
   "cell_type": "code",
   "execution_count": 1,
   "id": "eb5f7dfb",
   "metadata": {},
   "outputs": [],
   "source": [
    "import numpy as np\n",
    "import pandas as pd\n",
    "import matplotlib.pyplot as plt\n",
    "import seaborn as sns"
   ]
  },
  {
   "cell_type": "code",
   "execution_count": 2,
   "id": "351ad10e",
   "metadata": {},
   "outputs": [],
   "source": [
    "from tensorflow.keras.datasets import mnist\n",
    "\n",
    "(x_train, y_train),(x_test, y_test) = mnist.load_data()"
   ]
  },
  {
   "cell_type": "code",
   "execution_count": 3,
   "id": "27fef982",
   "metadata": {},
   "outputs": [
    {
     "data": {
      "text/plain": [
       "(60000, 28, 28)"
      ]
     },
     "execution_count": 3,
     "metadata": {},
     "output_type": "execute_result"
    }
   ],
   "source": [
    "x_train.shape"
   ]
  },
  {
   "cell_type": "code",
   "execution_count": 4,
   "id": "ecd587e1",
   "metadata": {},
   "outputs": [],
   "source": [
    "single_image = x_train[0]"
   ]
  },
  {
   "cell_type": "code",
   "execution_count": 5,
   "id": "e52aeaab",
   "metadata": {},
   "outputs": [
    {
     "data": {
      "text/plain": [
       "(28, 28)"
      ]
     },
     "execution_count": 5,
     "metadata": {},
     "output_type": "execute_result"
    }
   ],
   "source": [
    "single_image.shape"
   ]
  },
  {
   "cell_type": "markdown",
   "id": "e10e3de8",
   "metadata": {},
   "source": [
    "## Visual image"
   ]
  },
  {
   "cell_type": "code",
   "execution_count": 6,
   "id": "427bcb08",
   "metadata": {},
   "outputs": [
    {
     "data": {
      "text/plain": [
       "<matplotlib.image.AxesImage at 0x22bf5145fd0>"
      ]
     },
     "execution_count": 6,
     "metadata": {},
     "output_type": "execute_result"
    },
    {
     "data": {
      "image/png": "[encoded data removed]",
      "text/plain": [
       "<Figure size 640x480 with 1 Axes>"
      ]
     },
     "metadata": {},
     "output_type": "display_data"
    }
   ],
   "source": [
    "plt.imshow(single_image)"
   ]
  },
  {
   "cell_type": "code",
   "execution_count": 7,
   "id": "8535cd45",
   "metadata": {},
   "outputs": [
    {
     "data": {
      "text/plain": [
       "<matplotlib.image.AxesImage at 0x22bf71d2a90>"
      ]
     },
     "execution_count": 7,
     "metadata": {},
     "output_type": "execute_result"
    },
    {
     "data": {
      "image/png": "[encoded data removed]",
      "text/plain": [
       "<Figure size 640x480 with 1 Axes>"
      ]
     },
     "metadata": {},
     "output_type": "display_data"
    }
   ],
   "source": [
    "plt.imshow(x_train[2])"
   ]
  },
  {
   "cell_type": "markdown",
   "id": "04d80392",
   "metadata": {},
   "source": [
    "## Image Preprocessing label Y"
   ]
  },
  {
   "cell_type": "code",
   "execution_count": 8,
   "id": "b396f46d",
   "metadata": {},
   "outputs": [
    {
     "data": {
      "text/plain": [
       "array([5, 0, 4, ..., 5, 6, 8], dtype=uint8)"
      ]
     },
     "execution_count": 8,
     "metadata": {},
     "output_type": "execute_result"
    }
   ],
   "source": [
    "y_train"
   ]
  },
  {
   "cell_type": "code",
   "execution_count": 9,
   "id": "bc8d27f3",
   "metadata": {},
   "outputs": [
    {
     "data": {
      "text/plain": [
       "array([7, 2, 1, ..., 4, 5, 6], dtype=uint8)"
      ]
     },
     "execution_count": 9,
     "metadata": {},
     "output_type": "execute_result"
    }
   ],
   "source": [
    "y_test"
   ]
  },
  {
   "cell_type": "code",
   "execution_count": 10,
   "id": "6df6e8a0",
   "metadata": {},
   "outputs": [],
   "source": [
    "from tensorflow.keras.utils import to_categorical"
   ]
  },
  {
   "cell_type": "code",
   "execution_count": 11,
   "id": "b9bcf500",
   "metadata": {},
   "outputs": [],
   "source": [
    "y_samples = to_categorical(y_train)"
   ]
  },
  {
   "cell_type": "code",
   "execution_count": 12,
   "id": "c3a39c9d",
   "metadata": {},
   "outputs": [
    {
     "data": {
      "text/plain": [
       "(60000, 10)"
      ]
     },
     "execution_count": 12,
     "metadata": {},
     "output_type": "execute_result"
    }
   ],
   "source": [
    "y_samples.shape"
   ]
  },
  {
   "cell_type": "code",
   "execution_count": 13,
   "id": "448b730f",
   "metadata": {},
   "outputs": [
    {
     "data": {
      "text/plain": [
       "10"
      ]
     },
     "execution_count": 13,
     "metadata": {},
     "output_type": "execute_result"
    }
   ],
   "source": [
    "y_samples.shape[1]"
   ]
  },
  {
   "cell_type": "code",
   "execution_count": 14,
   "id": "33137650",
   "metadata": {},
   "outputs": [],
   "source": [
    "y_cat_train = to_categorical(y_train, num_classes = 10)\n",
    "y_cat_test = to_categorical(y_test, num_classes = 10)"
   ]
  },
  {
   "cell_type": "markdown",
   "id": "bfb4edaf",
   "metadata": {},
   "source": [
    "------------\n",
    "-----------\n",
    "## Preprocessing data X"
   ]
  },
  {
   "cell_type": "code",
   "execution_count": 15,
   "id": "6c2d7a16",
   "metadata": {},
   "outputs": [
    {
     "data": {
      "text/plain": [
       "(60000, 28, 28)"
      ]
     },
     "execution_count": 15,
     "metadata": {},
     "output_type": "execute_result"
    }
   ],
   "source": [
    "x_train.shape"
   ]
  },
  {
   "cell_type": "code",
   "execution_count": 16,
   "id": "3b754827",
   "metadata": {},
   "outputs": [
    {
     "data": {
      "text/plain": [
       "(10000, 28, 28)"
      ]
     },
     "execution_count": 16,
     "metadata": {},
     "output_type": "execute_result"
    }
   ],
   "source": [
    "x_test.shape"
   ]
  },
  {
   "cell_type": "code",
   "execution_count": 17,
   "id": "8fa4ca0c",
   "metadata": {},
   "outputs": [
    {
     "data": {
      "text/plain": [
       "255"
      ]
     },
     "execution_count": 17,
     "metadata": {},
     "output_type": "execute_result"
    }
   ],
   "source": [
    "x_train[0].max()"
   ]
  },
  {
   "cell_type": "code",
   "execution_count": 18,
   "id": "ae0688f6",
   "metadata": {},
   "outputs": [],
   "source": [
    "x_train = x_train/255"
   ]
  },
  {
   "cell_type": "code",
   "execution_count": 19,
   "id": "b674846a",
   "metadata": {},
   "outputs": [],
   "source": [
    "x_test= x_test/255"
   ]
  },
  {
   "cell_type": "code",
   "execution_count": 20,
   "id": "39970208",
   "metadata": {},
   "outputs": [
    {
     "data": {
      "text/plain": [
       "<matplotlib.image.AxesImage at 0x22bf4972c40>"
      ]
     },
     "execution_count": 20,
     "metadata": {},
     "output_type": "execute_result"
    },
    {
     "data": {
      "image/png": "[encoded data removed]",
      "text/plain": [
       "<Figure size 640x480 with 1 Axes>"
      ]
     },
     "metadata": {},
     "output_type": "display_data"
    }
   ],
   "source": [
    "plt.imshow(x_train[0])"
   ]
  },
  {
   "cell_type": "markdown",
   "id": "24ba834c",
   "metadata": {},
   "source": [
    "## Resshape data x"
   ]
  },
  {
   "cell_type": "code",
   "execution_count": 21,
   "id": "5d6e95ee",
   "metadata": {},
   "outputs": [
    {
     "data": {
      "text/plain": [
       "(60000, 28, 28)"
      ]
     },
     "execution_count": 21,
     "metadata": {},
     "output_type": "execute_result"
    }
   ],
   "source": [
    "x_train.shape"
   ]
  },
  {
   "cell_type": "code",
   "execution_count": 22,
   "id": "63422aa9",
   "metadata": {},
   "outputs": [
    {
     "data": {
      "text/plain": [
       "(10000, 28, 28)"
      ]
     },
     "execution_count": 22,
     "metadata": {},
     "output_type": "execute_result"
    }
   ],
   "source": [
    "x_test.shape"
   ]
  },
  {
   "cell_type": "code",
   "execution_count": 23,
   "id": "c6c26c6d",
   "metadata": {},
   "outputs": [],
   "source": [
    "x_train = x_train.reshape(60000, 28, 28, 1)"
   ]
  },
  {
   "cell_type": "code",
   "execution_count": 24,
   "id": "37c8e52a",
   "metadata": {},
   "outputs": [],
   "source": [
    "x_test = x_test.reshape(10000, 28, 28, 1) "
   ]
  },
  {
   "cell_type": "code",
   "execution_count": 25,
   "id": "e4c84161",
   "metadata": {},
   "outputs": [
    {
     "data": {
      "text/plain": [
       "(60000, 28, 28, 1)"
      ]
     },
     "execution_count": 25,
     "metadata": {},
     "output_type": "execute_result"
    }
   ],
   "source": [
    "x_train.shape"
   ]
  },
  {
   "cell_type": "code",
   "execution_count": 26,
   "id": "585d8236",
   "metadata": {},
   "outputs": [
    {
     "data": {
      "text/plain": [
       "(10000, 28, 28, 1)"
      ]
     },
     "execution_count": 26,
     "metadata": {},
     "output_type": "execute_result"
    }
   ],
   "source": [
    "x_test.shape"
   ]
  },
  {
   "cell_type": "markdown",
   "id": "ba792e5b",
   "metadata": {},
   "source": [
    "-----\n",
    "----\n",
    "## Create Model CNN"
   ]
  },
  {
   "cell_type": "code",
   "execution_count": 27,
   "id": "acb67a3e",
   "metadata": {},
   "outputs": [],
   "source": [
    "from tensorflow.keras.models import Sequential\n",
    "from tensorflow.keras.layers import Dense, Conv2D, MaxPool2D, Flatten\n",
    "from tensorflow.keras.callbacks import EarlyStopping"
   ]
  },
  {
   "cell_type": "code",
   "execution_count": 28,
   "id": "bb39232f",
   "metadata": {},
   "outputs": [
    {
     "data": {
      "text/plain": [
       "784"
      ]
     },
     "execution_count": 28,
     "metadata": {},
     "output_type": "execute_result"
    }
   ],
   "source": [
    "28*28"
   ]
  },
  {
   "cell_type": "code",
   "execution_count": 29,
   "id": "4a5b8737",
   "metadata": {},
   "outputs": [],
   "source": [
    "model = Sequential()\n",
    "\n",
    "# Convolution layer\n",
    "model.add(Conv2D(filters = 32, kernel_size =(4,4), input_shape= (28, 28, 1), activation = 'relu'))\n",
    "\n",
    "\n",
    "# Pooling layer\n",
    "model.add(MaxPool2D(pool_size = (2,2)))\n",
    "\n",
    "# flatten image\n",
    "model.add(Flatten())\n",
    "\n",
    "# 128 Neorons in dense hidden layers\n",
    "model.add(Dense(128, activation='relu'))\n",
    "                \n",
    "\n",
    "# last layer is the classification  \n",
    "model.add(Dense(10, activation='softmax'))\n",
    "\n",
    "# model compile\n",
    "model.compile(loss= 'categorical_crossentropy', \n",
    "             optimizer = 'adam', \n",
    "             metrics = ['accuracy'])\n",
    "    "
   ]
  },
  {
   "cell_type": "code",
   "execution_count": 30,
   "id": "963b17e3",
   "metadata": {},
   "outputs": [
    {
     "name": "stdout",
     "output_type": "stream",
     "text": [
      "Model: \"sequential\"\n",
      "_________________________________________________________________\n",
      " Layer (type)                Output Shape              Param #   \n",
      "=================================================================\n",
      " conv2d (Conv2D)             (None, 25, 25, 32)        544       \n",
      "                                                                 \n",
      " max_pooling2d (MaxPooling2  (None, 12, 12, 32)        0         \n",
      " D)                                                              \n",
      "                                                                 \n",
      " flatten (Flatten)           (None, 4608)              0         \n",
      "                                                                 \n",
      " dense (Dense)               (None, 128)               589952    \n",
      "                                                                 \n",
      " dense_1 (Dense)             (None, 10)                1290      \n",
      "                                                                 \n",
      "=================================================================\n",
      "Total params: 591786 (2.26 MB)\n",
      "Trainable params: 591786 (2.26 MB)\n",
      "Non-trainable params: 0 (0.00 Byte)\n",
      "_________________________________________________________________\n"
     ]
    }
   ],
   "source": [
    "model.summary()"
   ]
  },
  {
   "cell_type": "code",
   "execution_count": 31,
   "id": "3ea3213f",
   "metadata": {},
   "outputs": [],
   "source": [
    "# earlystopping\n",
    "early_stop = EarlyStopping(monitor='val_loss', patience = 2)"
   ]
  },
  {
   "cell_type": "markdown",
   "id": "e38fdf98",
   "metadata": {},
   "source": [
    "## Train the model"
   ]
  },
  {
   "cell_type": "code",
   "execution_count": null,
   "id": "df768ae3",
   "metadata": {},
   "outputs": [
    {
     "name": "stdout",
     "output_type": "stream",
     "text": [
      "Epoch 1/10\n",
      "1875/1875 [==============================] - 150s 63ms/step - loss: 0.1319 - accuracy: 0.9592 - val_loss: 0.0564 - val_accuracy: 0.9824\n",
      "Epoch 2/10\n",
      "1875/1875 [==============================] - 115s 61ms/step - loss: 0.0457 - accuracy: 0.9861 - val_loss: 0.0407 - val_accuracy: 0.9874\n",
      "Epoch 3/10\n",
      "1874/1875 [============================>.] - ETA: 0s - loss: 0.0286 - accuracy: 0.9911"
     ]
    }
   ],
   "source": [
    "model.fit(x_train, y_cat_train, \n",
    "          epochs = 10, \n",
    "          validation_data = (x_test, y_cat_test), \n",
    "          callbacks = [early_stop])"
   ]
  },
  {
   "cell_type": "markdown",
   "id": "62f63ac1",
   "metadata": {},
   "source": [
    "## Evaluate the Model"
   ]
  },
  {
   "cell_type": "code",
   "execution_count": null,
   "id": "61bf7437",
   "metadata": {},
   "outputs": [],
   "source": [
    "model.metrics_names"
   ]
  },
  {
   "cell_type": "code",
   "execution_count": null,
   "id": "2181a530",
   "metadata": {},
   "outputs": [],
   "source": [
    "losses = pd.DataFrame(model.history.history)"
   ]
  },
  {
   "cell_type": "code",
   "execution_count": null,
   "id": "09ac2b95",
   "metadata": {},
   "outputs": [],
   "source": [
    "losses"
   ]
  },
  {
   "cell_type": "code",
   "execution_count": null,
   "id": "5b7adea7",
   "metadata": {},
   "outputs": [],
   "source": [
    "plt.style.use(['science','notebook','grid'])"
   ]
  },
  {
   "cell_type": "code",
   "execution_count": null,
   "id": "5d49ad19",
   "metadata": {},
   "outputs": [],
   "source": [
    "losses[['loss', 'val_loss']].plot()\n",
    "plt.title('Cross Entropy Loss');"
   ]
  },
  {
   "cell_type": "code",
   "execution_count": null,
   "id": "acb9a259",
   "metadata": {},
   "outputs": [],
   "source": [
    "losses[['accuracy','val_accuracy']].plot()\n",
    "plt.title('Accuracy');"
   ]
  },
  {
   "cell_type": "code",
   "execution_count": null,
   "id": "f5e3ea2d",
   "metadata": {},
   "outputs": [],
   "source": [
    "model.metrics_names"
   ]
  },
  {
   "cell_type": "code",
   "execution_count": null,
   "id": "ab1cd101",
   "metadata": {},
   "outputs": [],
   "source": [
    "model.evaluate(x_test, y_cat_test)"
   ]
  },
  {
   "cell_type": "markdown",
   "id": "db0b1c79",
   "metadata": {},
   "source": [
    "-----\n",
    "----\n",
    "## Evaluation Model"
   ]
  },
  {
   "cell_type": "code",
   "execution_count": null,
   "id": "dc51a320",
   "metadata": {},
   "outputs": [],
   "source": [
    "prediction = np.argmax(model.predict(x_test), axis= -1)"
   ]
  },
  {
   "cell_type": "code",
   "execution_count": null,
   "id": "fe001c53",
   "metadata": {},
   "outputs": [],
   "source": [
    "y_cat_test.shape"
   ]
  },
  {
   "cell_type": "code",
   "execution_count": null,
   "id": "025c2eed",
   "metadata": {},
   "outputs": [],
   "source": [
    "y_cat_test[0]"
   ]
  },
  {
   "cell_type": "code",
   "execution_count": null,
   "id": "cfb8660b",
   "metadata": {},
   "outputs": [],
   "source": [
    "prediction[0]"
   ]
  },
  {
   "cell_type": "code",
   "execution_count": null,
   "id": "d6299175",
   "metadata": {},
   "outputs": [],
   "source": [
    "y_test"
   ]
  },
  {
   "cell_type": "code",
   "execution_count": null,
   "id": "485fe8e2",
   "metadata": {},
   "outputs": [],
   "source": [
    "from sklearn.metrics import classification_report, confusion_matrix"
   ]
  },
  {
   "cell_type": "code",
   "execution_count": null,
   "id": "7505d721",
   "metadata": {},
   "outputs": [],
   "source": [
    "print(classification_report(y_test, prediction))"
   ]
  },
  {
   "cell_type": "code",
   "execution_count": null,
   "id": "affc7da2",
   "metadata": {},
   "outputs": [],
   "source": [
    "confusion_matrix(y_test, prediction)"
   ]
  },
  {
   "cell_type": "code",
   "execution_count": null,
   "id": "4b06ecf1",
   "metadata": {},
   "outputs": [],
   "source": [
    "plt.figure(figsize=(12,5))\n",
    "sns.heatmap(confusion_matrix(y_test, prediction), lw = 1, annot=True, cmap= 'tab10')"
   ]
  },
  {
   "cell_type": "markdown",
   "id": "08df2c65",
   "metadata": {},
   "source": [
    "## Prediction new data"
   ]
  },
  {
   "cell_type": "code",
   "execution_count": null,
   "id": "5bb49049",
   "metadata": {},
   "outputs": [],
   "source": [
    "my_number = x_test[0]"
   ]
  },
  {
   "cell_type": "code",
   "execution_count": null,
   "id": "98a5deec",
   "metadata": {},
   "outputs": [],
   "source": [
    "plt.imshow(my_number.reshape(28,28))"
   ]
  },
  {
   "cell_type": "code",
   "execution_count": null,
   "id": "a8376950",
   "metadata": {},
   "outputs": [],
   "source": [
    "new_predict = np.argmax(model.predict(my_number.reshape(1,28,28,1)), axis =-1)"
   ]
  },
  {
   "cell_type": "code",
   "execution_count": null,
   "id": "d81352f3",
   "metadata": {},
   "outputs": [],
   "source": [
    "new_predict "
   ]
  },
  {
   "cell_type": "code",
   "execution_count": null,
   "id": "00b6c931",
   "metadata": {},
   "outputs": [],
   "source": []
  }
 ],
 "metadata": {
  "kernelspec": {
   "display_name": "Python 3 (ipykernel)",
   "language": "python",
   "name": "python3"
  },
  "language_info": {
   "codemirror_mode": {
    "name": "ipython",
    "version": 3
   },
   "file_extension": ".py",
   "mimetype": "text/x-python",
   "name": "python",
   "nbconvert_exporter": "python",
   "pygments_lexer": "ipython3",
   "version": "3.9.13"
  }
 },
 "nbformat": 4,
 "nbformat_minor": 5
}
