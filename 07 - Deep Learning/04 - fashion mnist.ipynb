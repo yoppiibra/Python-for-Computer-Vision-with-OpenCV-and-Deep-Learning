{
 "cells": [
  {
   "cell_type": "markdown",
   "id": "8f7a9823",
   "metadata": {},
   "source": [
    "# Deep Learning for Image Classification\n",
    "\n",
    "\n",
    "Label\tDescription\n",
    "\n",
    "- 0\t    T-shirt/top\n",
    "- 1\t    Trouser\n",
    "- 2\t    Pullover\n",
    "- 3\t    Dress\n",
    "- 4\t    Coat\n",
    "- 5\t    Sandal\n",
    "- 6\t    Shirt\n",
    "- 7\t    Sneaker\n",
    "- 8\t    Bag\n",
    "- 9\t    Ankle boot"
   ]
  },
  {
   "cell_type": "code",
   "execution_count": 1,
   "id": "c2312770",
   "metadata": {},
   "outputs": [],
   "source": [
    "import numpy as np\n",
    "import pandas as pd\n",
    "import matplotlib.pyplot as plt\n",
    "import seaborn as sns"
   ]
  },
  {
   "cell_type": "code",
   "execution_count": 2,
   "id": "dd6a811c",
   "metadata": {},
   "outputs": [],
   "source": [
    "# dataset fashion mnist\n",
    "\n",
    "from tensorflow.keras.datasets import fashion_mnist\n",
    "\n",
    "(x_train, y_train),(x_test, y_test) = fashion_mnist.load_data()"
   ]
  },
  {
   "cell_type": "code",
   "execution_count": 3,
   "id": "2621bb01",
   "metadata": {},
   "outputs": [
    {
     "data": {
      "text/plain": [
       "(60000, 28, 28)"
      ]
     },
     "execution_count": 3,
     "metadata": {},
     "output_type": "execute_result"
    }
   ],
   "source": [
    "x_train.shape"
   ]
  },
  {
   "cell_type": "code",
   "execution_count": 4,
   "id": "23628ba1",
   "metadata": {},
   "outputs": [
    {
     "data": {
      "text/plain": [
       "(28, 28)"
      ]
     },
     "execution_count": 4,
     "metadata": {},
     "output_type": "execute_result"
    }
   ],
   "source": [
    "x_train[0].shape"
   ]
  },
  {
   "cell_type": "markdown",
   "id": "dc0e75b2",
   "metadata": {},
   "source": [
    "## Visual Image"
   ]
  },
  {
   "cell_type": "code",
   "execution_count": 5,
   "id": "9148fd38",
   "metadata": {},
   "outputs": [
    {
     "data": {
      "image/png": "[encoded data removed]",
      "text/plain": [
       "<Figure size 640x480 with 1 Axes>"
      ]
     },
     "metadata": {},
     "output_type": "display_data"
    }
   ],
   "source": [
    "plt.imshow(x_train[5]);"
   ]
  },
  {
   "cell_type": "code",
   "execution_count": 6,
   "id": "65b5916d",
   "metadata": {},
   "outputs": [
    {
     "data": {
      "text/plain": [
       "<matplotlib.image.AxesImage at 0x1f3695b2400>"
      ]
     },
     "execution_count": 6,
     "metadata": {},
     "output_type": "execute_result"
    },
    {
     "data": {
      "image/png": "[encoded data removed]",
      "text/plain": [
       "<Figure size 640x480 with 1 Axes>"
      ]
     },
     "metadata": {},
     "output_type": "display_data"
    }
   ],
   "source": [
    "plt.imshow(x_train[10])"
   ]
  },
  {
   "cell_type": "markdown",
   "id": "d42cda75",
   "metadata": {},
   "source": [
    "## Preprocessing data Y"
   ]
  },
  {
   "cell_type": "code",
   "execution_count": 7,
   "id": "f6a4c4d0",
   "metadata": {},
   "outputs": [
    {
     "data": {
      "text/plain": [
       "(60000,)"
      ]
     },
     "execution_count": 7,
     "metadata": {},
     "output_type": "execute_result"
    }
   ],
   "source": [
    "y_train.shape"
   ]
  },
  {
   "cell_type": "code",
   "execution_count": 8,
   "id": "baf8bc67",
   "metadata": {},
   "outputs": [],
   "source": [
    "from tensorflow.keras.utils import to_categorical"
   ]
  },
  {
   "cell_type": "code",
   "execution_count": 9,
   "id": "68276c14",
   "metadata": {},
   "outputs": [],
   "source": [
    "y_sample = to_categorical(y_train)"
   ]
  },
  {
   "cell_type": "code",
   "execution_count": 10,
   "id": "d8a67e7b",
   "metadata": {},
   "outputs": [
    {
     "data": {
      "text/plain": [
       "(60000, 10)"
      ]
     },
     "execution_count": 10,
     "metadata": {},
     "output_type": "execute_result"
    }
   ],
   "source": [
    "y_sample.shape"
   ]
  },
  {
   "cell_type": "code",
   "execution_count": 11,
   "id": "e28bbcb7",
   "metadata": {},
   "outputs": [],
   "source": [
    "y_cat_train = to_categorical(y_train, num_classes = 10)"
   ]
  },
  {
   "cell_type": "code",
   "execution_count": 12,
   "id": "8dea45cd",
   "metadata": {},
   "outputs": [],
   "source": [
    "y_cat_test = to_categorical(y_test, num_classes = 10)"
   ]
  },
  {
   "cell_type": "markdown",
   "id": "0bef84a4",
   "metadata": {},
   "source": [
    "## Preprocessing data X"
   ]
  },
  {
   "cell_type": "code",
   "execution_count": 13,
   "id": "7c4e28f1",
   "metadata": {},
   "outputs": [
    {
     "data": {
      "text/plain": [
       "(28, 28)"
      ]
     },
     "execution_count": 13,
     "metadata": {},
     "output_type": "execute_result"
    }
   ],
   "source": [
    "x_train[0].shape"
   ]
  },
  {
   "cell_type": "code",
   "execution_count": 14,
   "id": "55861d3d",
   "metadata": {},
   "outputs": [
    {
     "data": {
      "text/plain": [
       "255"
      ]
     },
     "execution_count": 14,
     "metadata": {},
     "output_type": "execute_result"
    }
   ],
   "source": [
    "x_train[0].max()"
   ]
  },
  {
   "cell_type": "code",
   "execution_count": 15,
   "id": "08ad7613",
   "metadata": {},
   "outputs": [],
   "source": [
    "x_train = x_train/255"
   ]
  },
  {
   "cell_type": "code",
   "execution_count": 16,
   "id": "35aab673",
   "metadata": {},
   "outputs": [],
   "source": [
    "x_test = x_test/255"
   ]
  },
  {
   "cell_type": "code",
   "execution_count": 17,
   "id": "029b5205",
   "metadata": {},
   "outputs": [
    {
     "data": {
      "text/plain": [
       "(60000, 28, 28)"
      ]
     },
     "execution_count": 17,
     "metadata": {},
     "output_type": "execute_result"
    }
   ],
   "source": [
    "x_train.shape"
   ]
  },
  {
   "cell_type": "code",
   "execution_count": 18,
   "id": "962cefba",
   "metadata": {},
   "outputs": [
    {
     "data": {
      "text/plain": [
       "(10000, 28, 28)"
      ]
     },
     "execution_count": 18,
     "metadata": {},
     "output_type": "execute_result"
    }
   ],
   "source": [
    "x_test.shape"
   ]
  },
  {
   "cell_type": "code",
   "execution_count": 19,
   "id": "65e395bb",
   "metadata": {},
   "outputs": [
    {
     "data": {
      "text/plain": [
       "3"
      ]
     },
     "execution_count": 19,
     "metadata": {},
     "output_type": "execute_result"
    }
   ],
   "source": [
    "x_train.ndim"
   ]
  },
  {
   "cell_type": "markdown",
   "id": "650479c1",
   "metadata": {},
   "source": [
    "## Reshape data X"
   ]
  },
  {
   "cell_type": "code",
   "execution_count": 20,
   "id": "f65551f6",
   "metadata": {},
   "outputs": [],
   "source": [
    "x_train = x_train.reshape(60000, 28, 28,1)"
   ]
  },
  {
   "cell_type": "code",
   "execution_count": 21,
   "id": "1a8a01b6",
   "metadata": {},
   "outputs": [],
   "source": [
    "x_test= x_test.reshape(10000, 28, 28, 1)"
   ]
  },
  {
   "cell_type": "code",
   "execution_count": 22,
   "id": "ddc648ca",
   "metadata": {},
   "outputs": [
    {
     "data": {
      "text/plain": [
       "(60000, 28, 28, 1)"
      ]
     },
     "execution_count": 22,
     "metadata": {},
     "output_type": "execute_result"
    }
   ],
   "source": [
    "x_train.shape"
   ]
  },
  {
   "cell_type": "code",
   "execution_count": 23,
   "id": "ebc1ab09",
   "metadata": {},
   "outputs": [
    {
     "data": {
      "text/plain": [
       "(10000, 28, 28, 1)"
      ]
     },
     "execution_count": 23,
     "metadata": {},
     "output_type": "execute_result"
    }
   ],
   "source": [
    "x_test.shape"
   ]
  },
  {
   "cell_type": "code",
   "execution_count": 24,
   "id": "f1f04140",
   "metadata": {},
   "outputs": [
    {
     "data": {
      "text/plain": [
       "4"
      ]
     },
     "execution_count": 24,
     "metadata": {},
     "output_type": "execute_result"
    }
   ],
   "source": [
    "x_train.ndim"
   ]
  },
  {
   "cell_type": "markdown",
   "id": "4caefdb2",
   "metadata": {},
   "source": [
    "## Create Model"
   ]
  },
  {
   "cell_type": "code",
   "execution_count": 25,
   "id": "6007e56c",
   "metadata": {},
   "outputs": [],
   "source": [
    "from tensorflow.keras.models import Sequential\n",
    "from tensorflow.keras.layers import Dense, Conv2D, MaxPool2D, Flatten, Dropout\n",
    "from tensorflow.keras.callbacks import EarlyStopping"
   ]
  },
  {
   "cell_type": "code",
   "execution_count": 26,
   "id": "a06d812c",
   "metadata": {},
   "outputs": [],
   "source": [
    "model = Sequential()\n",
    "\n",
    "model.add(Conv2D(filters = 32, kernel_size = (4,4), input_shape= (28, 28, 1), activation='relu'))\n",
    "model.add(MaxPool2D(pool_size= (2,2)))\n",
    "model.add(Flatten())\n",
    "\n",
    "model.add(Dense(64, activation='relu'))\n",
    "model.add(Dropout(0.2))\n",
    "model.add(Dense(10, activation='softmax'))\n",
    "\n",
    "model.compile(loss='categorical_crossentropy', \n",
    "              optimizer ='adam', \n",
    "              metrics = ['accuracy'])"
   ]
  },
  {
   "cell_type": "code",
   "execution_count": 27,
   "id": "e7a352cb",
   "metadata": {},
   "outputs": [
    {
     "name": "stdout",
     "output_type": "stream",
     "text": [
      "Model: \"sequential\"\n",
      "_________________________________________________________________\n",
      " Layer (type)                Output Shape              Param #   \n",
      "=================================================================\n",
      " conv2d (Conv2D)             (None, 25, 25, 32)        544       \n",
      "                                                                 \n",
      " max_pooling2d (MaxPooling2  (None, 12, 12, 32)        0         \n",
      " D)                                                              \n",
      "                                                                 \n",
      " flatten (Flatten)           (None, 4608)              0         \n",
      "                                                                 \n",
      " dense (Dense)               (None, 64)                294976    \n",
      "                                                                 \n",
      " dropout (Dropout)           (None, 64)                0         \n",
      "                                                                 \n",
      " dense_1 (Dense)             (None, 10)                650       \n",
      "                                                                 \n",
      "=================================================================\n",
      "Total params: 296170 (1.13 MB)\n",
      "Trainable params: 296170 (1.13 MB)\n",
      "Non-trainable params: 0 (0.00 Byte)\n",
      "_________________________________________________________________\n"
     ]
    }
   ],
   "source": [
    "model.summary()"
   ]
  },
  {
   "cell_type": "code",
   "execution_count": 28,
   "id": "4a896baa",
   "metadata": {},
   "outputs": [],
   "source": [
    "# earlystopping\n",
    "early_stop = EarlyStopping(monitor= 'val_loss', patience= 2)"
   ]
  },
  {
   "cell_type": "markdown",
   "id": "59552cd6",
   "metadata": {},
   "source": [
    "## Train The Model"
   ]
  },
  {
   "cell_type": "code",
   "execution_count": 29,
   "id": "e6b192d5",
   "metadata": {},
   "outputs": [
    {
     "name": "stdout",
     "output_type": "stream",
     "text": [
      "Epoch 1/10\n",
      "1875/1875 [==============================] - 54s 24ms/step - loss: 0.4605 - accuracy: 0.8367 - val_loss: 0.3500 - val_accuracy: 0.8725\n",
      "Epoch 2/10\n",
      "1875/1875 [==============================] - 48s 26ms/step - loss: 0.3156 - accuracy: 0.8867 - val_loss: 0.2908 - val_accuracy: 0.8938\n",
      "Epoch 3/10\n",
      "1875/1875 [==============================] - 52s 28ms/step - loss: 0.2747 - accuracy: 0.9011 - val_loss: 0.2785 - val_accuracy: 0.8955\n",
      "Epoch 4/10\n",
      "1875/1875 [==============================] - 51s 27ms/step - loss: 0.2469 - accuracy: 0.9090 - val_loss: 0.2665 - val_accuracy: 0.9033\n",
      "Epoch 5/10\n",
      "1875/1875 [==============================] - 51s 27ms/step - loss: 0.2237 - accuracy: 0.9158 - val_loss: 0.2668 - val_accuracy: 0.9023\n",
      "Epoch 6/10\n",
      "1875/1875 [==============================] - 53s 28ms/step - loss: 0.2046 - accuracy: 0.9233 - val_loss: 0.2608 - val_accuracy: 0.9084\n",
      "Epoch 7/10\n",
      "1875/1875 [==============================] - 52s 28ms/step - loss: 0.1893 - accuracy: 0.9302 - val_loss: 0.2650 - val_accuracy: 0.9090\n",
      "Epoch 8/10\n",
      "1875/1875 [==============================] - 54s 29ms/step - loss: 0.1746 - accuracy: 0.9350 - val_loss: 0.2663 - val_accuracy: 0.9086\n"
     ]
    },
    {
     "data": {
      "text/plain": [
       "<keras.src.callbacks.History at 0x1f36420ed30>"
      ]
     },
     "execution_count": 29,
     "metadata": {},
     "output_type": "execute_result"
    }
   ],
   "source": [
    "model.fit(x_train, y_cat_train, \n",
    "          epochs = 10, \n",
    "          validation_data = (x_test, y_cat_test), \n",
    "          callbacks = [early_stop])"
   ]
  },
  {
   "cell_type": "code",
   "execution_count": 30,
   "id": "08fc381a",
   "metadata": {},
   "outputs": [],
   "source": [
    "losses = pd.DataFrame(model.history.history)"
   ]
  },
  {
   "cell_type": "code",
   "execution_count": 31,
   "id": "67af9915",
   "metadata": {},
   "outputs": [
    {
     "data": {
      "text/html": [
       "<div>\n",
       "<style scoped>\n",
       "    .dataframe tbody tr th:only-of-type {\n",
       "        vertical-align: middle;\n",
       "    }\n",
       "\n",
       "    .dataframe tbody tr th {\n",
       "        vertical-align: top;\n",
       "    }\n",
       "\n",
       "    .dataframe thead th {\n",
       "        text-align: right;\n",
       "    }\n",
       "</style>\n",
       "<table border=\"1\" class=\"dataframe\">\n",
       "  <thead>\n",
       "    <tr style=\"text-align: right;\">\n",
       "      <th></th>\n",
       "      <th>loss</th>\n",
       "      <th>accuracy</th>\n",
       "      <th>val_loss</th>\n",
       "      <th>val_accuracy</th>\n",
       "    </tr>\n",
       "  </thead>\n",
       "  <tbody>\n",
       "    <tr>\n",
       "      <th>0</th>\n",
       "      <td>0.460452</td>\n",
       "      <td>0.836667</td>\n",
       "      <td>0.350025</td>\n",
       "      <td>0.8725</td>\n",
       "    </tr>\n",
       "    <tr>\n",
       "      <th>1</th>\n",
       "      <td>0.315634</td>\n",
       "      <td>0.886750</td>\n",
       "      <td>0.290830</td>\n",
       "      <td>0.8938</td>\n",
       "    </tr>\n",
       "    <tr>\n",
       "      <th>2</th>\n",
       "      <td>0.274658</td>\n",
       "      <td>0.901150</td>\n",
       "      <td>0.278464</td>\n",
       "      <td>0.8955</td>\n",
       "    </tr>\n",
       "    <tr>\n",
       "      <th>3</th>\n",
       "      <td>0.246867</td>\n",
       "      <td>0.908983</td>\n",
       "      <td>0.266492</td>\n",
       "      <td>0.9033</td>\n",
       "    </tr>\n",
       "    <tr>\n",
       "      <th>4</th>\n",
       "      <td>0.223688</td>\n",
       "      <td>0.915833</td>\n",
       "      <td>0.266813</td>\n",
       "      <td>0.9023</td>\n",
       "    </tr>\n",
       "    <tr>\n",
       "      <th>5</th>\n",
       "      <td>0.204601</td>\n",
       "      <td>0.923283</td>\n",
       "      <td>0.260802</td>\n",
       "      <td>0.9084</td>\n",
       "    </tr>\n",
       "    <tr>\n",
       "      <th>6</th>\n",
       "      <td>0.189317</td>\n",
       "      <td>0.930233</td>\n",
       "      <td>0.264988</td>\n",
       "      <td>0.9090</td>\n",
       "    </tr>\n",
       "    <tr>\n",
       "      <th>7</th>\n",
       "      <td>0.174592</td>\n",
       "      <td>0.934967</td>\n",
       "      <td>0.266294</td>\n",
       "      <td>0.9086</td>\n",
       "    </tr>\n",
       "  </tbody>\n",
       "</table>\n",
       "</div>"
      ],
      "text/plain": [
       "       loss  accuracy  val_loss  val_accuracy\n",
       "0  0.460452  0.836667  0.350025        0.8725\n",
       "1  0.315634  0.886750  0.290830        0.8938\n",
       "2  0.274658  0.901150  0.278464        0.8955\n",
       "3  0.246867  0.908983  0.266492        0.9033\n",
       "4  0.223688  0.915833  0.266813        0.9023\n",
       "5  0.204601  0.923283  0.260802        0.9084\n",
       "6  0.189317  0.930233  0.264988        0.9090\n",
       "7  0.174592  0.934967  0.266294        0.9086"
      ]
     },
     "execution_count": 31,
     "metadata": {},
     "output_type": "execute_result"
    }
   ],
   "source": [
    "losses"
   ]
  },
  {
   "cell_type": "code",
   "execution_count": 32,
   "id": "60fa3d75",
   "metadata": {},
   "outputs": [
    {
     "data": {
      "image/png": "[encoded data removed]",
      "text/plain": [
       "<Figure size 640x480 with 1 Axes>"
      ]
     },
     "metadata": {},
     "output_type": "display_data"
    }
   ],
   "source": [
    "losses[['loss','val_loss']].plot()\n",
    "plt.title('Cross Entropy Loss');"
   ]
  },
  {
   "cell_type": "code",
   "execution_count": 33,
   "id": "3419ad71",
   "metadata": {},
   "outputs": [
    {
     "data": {
      "image/png": "[encoded data removed]",
      "text/plain": [
       "<Figure size 640x480 with 1 Axes>"
      ]
     },
     "metadata": {},
     "output_type": "display_data"
    }
   ],
   "source": [
    "losses[['accuracy','val_accuracy']].plot()\n",
    "plt.title('Accuracy');"
   ]
  },
  {
   "cell_type": "code",
   "execution_count": 34,
   "id": "70973c8c",
   "metadata": {},
   "outputs": [
    {
     "name": "stdout",
     "output_type": "stream",
     "text": [
      "313/313 [==============================] - 3s 10ms/step - loss: 0.2663 - accuracy: 0.9086\n"
     ]
    },
    {
     "data": {
      "text/plain": [
       "[0.26629438996315, 0.9085999727249146]"
      ]
     },
     "execution_count": 34,
     "metadata": {},
     "output_type": "execute_result"
    }
   ],
   "source": [
    "model.evaluate(x_test, y_cat_test)"
   ]
  },
  {
   "cell_type": "markdown",
   "id": "5792ff85",
   "metadata": {},
   "source": [
    "##  Prediction"
   ]
  },
  {
   "cell_type": "code",
   "execution_count": 35,
   "id": "e2139521",
   "metadata": {},
   "outputs": [
    {
     "name": "stdout",
     "output_type": "stream",
     "text": [
      "313/313 [==============================] - 3s 9ms/step\n"
     ]
    }
   ],
   "source": [
    "prediction = np.argmax(model.predict(x_test), axis =-1)"
   ]
  },
  {
   "cell_type": "code",
   "execution_count": 36,
   "id": "5c6e253e",
   "metadata": {},
   "outputs": [
    {
     "data": {
      "text/plain": [
       "(10000, 10)"
      ]
     },
     "execution_count": 36,
     "metadata": {},
     "output_type": "execute_result"
    }
   ],
   "source": [
    "y_cat_test.shape"
   ]
  },
  {
   "cell_type": "code",
   "execution_count": 37,
   "id": "4528e96d",
   "metadata": {},
   "outputs": [
    {
     "data": {
      "text/plain": [
       "array([0., 0., 0., 0., 0., 0., 0., 0., 0., 1.], dtype=float32)"
      ]
     },
     "execution_count": 37,
     "metadata": {},
     "output_type": "execute_result"
    }
   ],
   "source": [
    "y_cat_test[0]"
   ]
  },
  {
   "cell_type": "code",
   "execution_count": 38,
   "id": "c4c9038b",
   "metadata": {},
   "outputs": [
    {
     "data": {
      "text/plain": [
       "9"
      ]
     },
     "execution_count": 38,
     "metadata": {},
     "output_type": "execute_result"
    }
   ],
   "source": [
    "prediction[0]"
   ]
  },
  {
   "cell_type": "markdown",
   "id": "3b96ece8",
   "metadata": {},
   "source": [
    "## Evaluation Model"
   ]
  },
  {
   "cell_type": "code",
   "execution_count": 39,
   "id": "ec03c96e",
   "metadata": {},
   "outputs": [],
   "source": [
    "from sklearn.metrics import classification_report, confusion_matrix"
   ]
  },
  {
   "cell_type": "code",
   "execution_count": 40,
   "id": "0b4f26e3",
   "metadata": {},
   "outputs": [
    {
     "name": "stdout",
     "output_type": "stream",
     "text": [
      "              precision    recall  f1-score   support\n",
      "\n",
      "           0       0.86      0.85      0.85      1000\n",
      "           1       1.00      0.97      0.98      1000\n",
      "           2       0.84      0.88      0.86      1000\n",
      "           3       0.91      0.92      0.91      1000\n",
      "           4       0.82      0.89      0.85      1000\n",
      "           5       0.97      0.99      0.98      1000\n",
      "           6       0.77      0.69      0.73      1000\n",
      "           7       0.96      0.96      0.96      1000\n",
      "           8       0.98      0.98      0.98      1000\n",
      "           9       0.98      0.96      0.97      1000\n",
      "\n",
      "    accuracy                           0.91     10000\n",
      "   macro avg       0.91      0.91      0.91     10000\n",
      "weighted avg       0.91      0.91      0.91     10000\n",
      "\n"
     ]
    }
   ],
   "source": [
    "print(classification_report(y_test, prediction))"
   ]
  },
  {
   "cell_type": "code",
   "execution_count": 41,
   "id": "ba4456de",
   "metadata": {},
   "outputs": [
    {
     "data": {
      "text/plain": [
       "array([[849,   1,  24,  23,   5,   1,  91,   0,   6,   0],\n",
       "       [  2, 971,   0,  15,   4,   0,   6,   0,   2,   0],\n",
       "       [ 14,   0, 876,   6,  63,   0,  41,   0,   0,   0],\n",
       "       [  6,   2,  14, 915,  25,   0,  36,   0,   2,   0],\n",
       "       [  1,   1,  59,  24, 887,   0,  28,   0,   0,   0],\n",
       "       [  0,   0,   0,   0,   0, 989,   0,   6,   0,   5],\n",
       "       [112,   0,  73,  24,  91,   0, 690,   0,  10,   0],\n",
       "       [  0,   0,   0,   0,   0,  19,   0, 965,   0,  16],\n",
       "       [  3,   0,   3,   2,   5,   2,   0,   2, 983,   0],\n",
       "       [  0,   0,   0,   0,   0,   8,   1,  30,   0, 961]], dtype=int64)"
      ]
     },
     "execution_count": 41,
     "metadata": {},
     "output_type": "execute_result"
    }
   ],
   "source": [
    "confusion_matrix(y_test, prediction)"
   ]
  },
  {
   "cell_type": "code",
   "execution_count": 42,
   "id": "76d2f3c5",
   "metadata": {},
   "outputs": [
    {
     "data": {
      "image/png": "[encoded data removed]",
      "text/plain": [
       "<Figure size 1200x700 with 2 Axes>"
      ]
     },
     "metadata": {},
     "output_type": "display_data"
    }
   ],
   "source": [
    "plt.figure(figsize=(12, 7))\n",
    "sns.heatmap(confusion_matrix(y_test, prediction), lw=1, annot=True, cmap='cool');"
   ]
  },
  {
   "cell_type": "markdown",
   "id": "e35d5a3d",
   "metadata": {},
   "source": [
    "## New data"
   ]
  },
  {
   "cell_type": "code",
   "execution_count": 43,
   "id": "dd65649d",
   "metadata": {},
   "outputs": [],
   "source": [
    "my_fashion = x_test[0]"
   ]
  },
  {
   "cell_type": "code",
   "execution_count": 44,
   "id": "8fcc7c26",
   "metadata": {},
   "outputs": [
    {
     "data": {
      "text/plain": [
       "<matplotlib.image.AxesImage at 0x1f3674cf4f0>"
      ]
     },
     "execution_count": 44,
     "metadata": {},
     "output_type": "execute_result"
    },
    {
     "data": {
      "image/png": "[encoded data removed]",
      "text/plain": [
       "<Figure size 640x480 with 1 Axes>"
      ]
     },
     "metadata": {},
     "output_type": "display_data"
    }
   ],
   "source": [
    "plt.imshow(my_fashion)"
   ]
  },
  {
   "cell_type": "code",
   "execution_count": 47,
   "id": "b285fda7",
   "metadata": {},
   "outputs": [
    {
     "name": "stdout",
     "output_type": "stream",
     "text": [
      "1/1 [==============================] - 0s 52ms/step\n"
     ]
    }
   ],
   "source": [
    "new_predict = np.argmax(model.predict(my_fashion.reshape(1, 28,28,1)), axis=-1)"
   ]
  },
  {
   "cell_type": "code",
   "execution_count": 48,
   "id": "846ca21d",
   "metadata": {},
   "outputs": [
    {
     "data": {
      "text/plain": [
       "array([9], dtype=int64)"
      ]
     },
     "execution_count": 48,
     "metadata": {},
     "output_type": "execute_result"
    }
   ],
   "source": [
    "new_predict"
   ]
  },
  {
   "cell_type": "code",
   "execution_count": null,
   "id": "4a193ca4",
   "metadata": {},
   "outputs": [],
   "source": []
  }
 ],
 "metadata": {
  "kernelspec": {
   "display_name": "Python 3 (ipykernel)",
   "language": "python",
   "name": "python3"
  },
  "language_info": {
   "codemirror_mode": {
    "name": "ipython",
    "version": 3
   },
   "file_extension": ".py",
   "mimetype": "text/x-python",
   "name": "python",
   "nbconvert_exporter": "python",
   "pygments_lexer": "ipython3",
   "version": "3.9.13"
  }
 },
 "nbformat": 4,
 "nbformat_minor": 5
}
