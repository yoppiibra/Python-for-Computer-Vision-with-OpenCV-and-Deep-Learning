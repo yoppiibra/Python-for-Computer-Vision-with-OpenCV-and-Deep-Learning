{
 "cells": [
  {
   "cell_type": "code",
   "execution_count": 1,
   "id": "3bbf4708",
   "metadata": {},
   "outputs": [],
   "source": [
    "import cv2\n",
    "import numpy as np\n",
    "\n",
    "\n",
    "drawing = False\n",
    "ix, iy = -1, -1\n",
    "\n",
    "## callback function\n",
    "\n",
    "def draw_rectang(event, x,y,flags, param):\n",
    "    global ix, iy, drawing\n",
    "    \n",
    "    if event == cv2.EVENT_LBUTTONDOWN:\n",
    "        drawing = True\n",
    "        ix, iy = x,y\n",
    "        \n",
    "    elif event == cv2.EVENT_MOUSEMOVE:\n",
    "        if drawing == True:\n",
    "            cv2.rectangle(img, (ix, iy), (x,y), (255, 0,255), -1)\n",
    "            \n",
    "    elif event == cv2.EVENT_LBUTTONUP:\n",
    "        drawing = False\n",
    "        cv2.rectangle(img, (ix,iy), (x,y), (255, 0,255), -1)\n",
    "            \n",
    "  \n",
    "        \n",
    "        \n",
    "img = np.zeros(shape=(512, 512, 3), dtype= np.int8)\n",
    "        \n",
    "cv2.namedWindow('My_draw')\n",
    "cv2.setMouseCallback('My_draw',draw_rectang)\n",
    "\n",
    "while True:\n",
    "    cv2.imshow('My_draw', img)\n",
    "    if cv2.waitKey(20) & 0xff == 27:\n",
    "        break\n",
    "\n",
    "cv2.destroyAllWindows()"
   ]
  }
 ],
 "metadata": {
  "kernelspec": {
   "display_name": "Python 3",
   "language": "python",
   "name": "python3"
  },
  "language_info": {
   "codemirror_mode": {
    "name": "ipython",
    "version": 3
   },
   "file_extension": ".py",
   "mimetype": "text/x-python",
   "name": "python",
   "nbconvert_exporter": "python",
   "pygments_lexer": "ipython3",
   "version": "3.8.8"
  }
 },
 "nbformat": 4,
 "nbformat_minor": 5
}
