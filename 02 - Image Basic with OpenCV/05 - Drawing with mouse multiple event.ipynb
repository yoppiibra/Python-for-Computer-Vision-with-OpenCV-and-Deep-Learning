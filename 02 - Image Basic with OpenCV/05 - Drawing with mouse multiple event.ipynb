{
 "cells": [
  {
   "cell_type": "code",
   "execution_count": 7,
   "id": "91b8e9ed",
   "metadata": {},
   "outputs": [],
   "source": [
    "import cv2\n",
    "import numpy as np\n",
    "\n",
    "def drawing_image(event, x,y, flags, param):\n",
    "    \n",
    "    if event == cv2.EVENT_LBUTTONDOWN:\n",
    "        cv2.circle(img, (x,y), 50, (10,255,0), -1)\n",
    "        \n",
    "    elif event == cv2.EVENT_RBUTTONUP:\n",
    "        cv2.circle(img, (x,y), 50, (0,255,0), -1)\n",
    "        \n",
    "        \n",
    "cv2.namedWindow('my_drawing')\n",
    "cv2.setMouseCallback('my_drawing',drawing_image)\n",
    "\n",
    "img = np.zeros(shape=(512,512, 3), dtype=np.int8)\n",
    "\n",
    "while True:\n",
    "    cv2.imshow('my_drawing', img)\n",
    "    if cv2.waitKey(20) & 0xff ==27:\n",
    "        break\n",
    "cv2.destroyAllWindows()"
   ]
  },
  {
   "cell_type": "code",
   "execution_count": null,
   "id": "32cd2ae5",
   "metadata": {},
   "outputs": [],
   "source": []
  }
 ],
 "metadata": {
  "kernelspec": {
   "display_name": "Python 3",
   "language": "python",
   "name": "python3"
  },
  "language_info": {
   "codemirror_mode": {
    "name": "ipython",
    "version": 3
   },
   "file_extension": ".py",
   "mimetype": "text/x-python",
   "name": "python",
   "nbconvert_exporter": "python",
   "pygments_lexer": "ipython3",
   "version": "3.8.8"
  }
 },
 "nbformat": 4,
 "nbformat_minor": 5
}
