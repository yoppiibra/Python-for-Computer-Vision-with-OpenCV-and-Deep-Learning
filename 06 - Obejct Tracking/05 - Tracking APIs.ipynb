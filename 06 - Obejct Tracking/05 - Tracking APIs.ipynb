{
 "cells": [
  {
   "cell_type": "code",
   "execution_count": 1,
   "id": "351fb83d",
   "metadata": {},
   "outputs": [],
   "source": [
    "import cv2"
   ]
  },
  {
   "cell_type": "code",
   "execution_count": 2,
   "id": "46dd95de",
   "metadata": {},
   "outputs": [],
   "source": [
    "def ask_for_tracker():\n",
    "    print('Welcome..!! What Tracker APIs Would you like to use')\n",
    "    print('Enter 0 for BOOSTING')\n",
    "    print('Enter 1 for MIL')\n",
    "    print('Enter 2 for KCF')\n",
    "    print('Enter 3 for TLD')\n",
    "    print('Enter 4 for MEDIANFLOW')\n",
    "    choise  = input('Please select your Tracker')\n",
    "    \n",
    "    if choise == '0':\n",
    "        tracker = cv2.TrackerBoosting_create()\n",
    "    if choise == '1':\n",
    "        tracker = cv2.TrackerMIL_create()\n",
    "    if choise == '2':\n",
    "        tracker = cv2.TrackerKCF_create()\n",
    "    if choise == '3':\n",
    "        tracker = cv2. TrackerTLD_create()\n",
    "    if choise == '4':\n",
    "        tracker = cv2.TrackerMedianFlow_create()\n",
    "    \n",
    "    return tracker"
   ]
  },
  {
   "cell_type": "code",
   "execution_count": 3,
   "id": "faa369cf",
   "metadata": {},
   "outputs": [
    {
     "name": "stdout",
     "output_type": "stream",
     "text": [
      "Welcome..!! What Tracker APIs Would you like to use\n",
      "Enter 0 for BOOSTING\n",
      "Enter 1 for MIL\n",
      "Enter 2 for KCF\n",
      "Enter 3 for TLD\n",
      "Enter 4 for MEDIANFLOW\n",
      "Please select your Tracker1\n"
     ]
    }
   ],
   "source": [
    "tracker = ask_for_tracker()"
   ]
  },
  {
   "cell_type": "code",
   "execution_count": 4,
   "id": "a9c2e016",
   "metadata": {},
   "outputs": [
    {
     "data": {
      "text/plain": [
       "''"
      ]
     },
     "execution_count": 4,
     "metadata": {},
     "output_type": "execute_result"
    }
   ],
   "source": [
    "str(tracker).split()[0][1:]"
   ]
  },
  {
   "cell_type": "code",
   "execution_count": 5,
   "id": "b0a8977f",
   "metadata": {},
   "outputs": [
    {
     "name": "stdout",
     "output_type": "stream",
     "text": [
      "Welcome..!! What Tracker APIs Would you like to use\n",
      "Enter 0 for BOOSTING\n",
      "Enter 1 for MIL\n",
      "Enter 2 for KCF\n",
      "Enter 3 for TLD\n",
      "Enter 4 for MEDIANFLOW\n",
      "Please select your Tracker1\n"
     ]
    }
   ],
   "source": [
    "tracker = ask_for_tracker()\n",
    "tracker_name = str(tracker).split()[0][1:]\n",
    "\n",
    "\n",
    "# membaca vidio\n",
    "cap = cv2.VideoCapture(r'C:\\Users\\Data\\computer vision\\video\\Slow Traffic Small Open CV.mp4')\n",
    "\n",
    "# membaca frame pertama\n",
    "ret, frame = cap.read()\n",
    "\n",
    "# fugsi khusus untuk menggambar atau menandai frame ROI yang diinginkan\n",
    "roi = cv2.selectROI(frame, False)\n",
    "\n",
    "# inisialisasi tracker dengan tracker pertama dan box pembatas\n",
    "ret = tracker.init(frame, roi)\n",
    "\n",
    "\n",
    "while True:\n",
    "    # membaca frame baru\n",
    "    ret, frame = cap.read()\n",
    "    \n",
    "    if ret == True:\n",
    "        \n",
    "    \n",
    "    \n",
    "        # perbaharui tracker\n",
    "        success, roi = tracker.update(frame)\n",
    "\n",
    "\n",
    "        (x,y,w,h) = tuple(map(int, roi))\n",
    "\n",
    "        # menggambar persegi untuk pergeraka tracker\n",
    "        if success:\n",
    "            p1 = (x, y)\n",
    "            p2 = (x+h, y+h)\n",
    "            cv2.rectangle(frame, p1, p2, (255, 10, 255), 3)\n",
    "\n",
    "        else:\n",
    "            # tracker menghilang\n",
    "            cv2.putText(frame, 'Object diluar jangkauan,, !!!', (100, 200), cv2.FONT_HERSHEY_SIMPLEX, 1, (0,255,225), 4 )\n",
    "\n",
    "        # menampilkan tipe tracker\n",
    "        cv2.putText(frame, tracker_name, (20, 100), cv2.FONT_HERSHEY_SIMPLEX ,1, (10, 10, 255), 3)\n",
    "\n",
    "\n",
    "        # menampilkan hasil tracker\n",
    "        cv2.imshow(tracker_name , frame)\n",
    "\n",
    "        k = cv2.waitKey(10) & 0xff\n",
    "        if k == 27:\n",
    "            break\n",
    "        \n",
    "cap.release()\n",
    "cv2.destroyAllWindows()\n",
    "    "
   ]
  },
  {
   "cell_type": "code",
   "execution_count": null,
   "id": "a7f287a9",
   "metadata": {},
   "outputs": [],
   "source": []
  }
 ],
 "metadata": {
  "kernelspec": {
   "display_name": "Python 3 (ipykernel)",
   "language": "python",
   "name": "python3"
  },
  "language_info": {
   "codemirror_mode": {
    "name": "ipython",
    "version": 3
   },
   "file_extension": ".py",
   "mimetype": "text/x-python",
   "name": "python",
   "nbconvert_exporter": "python",
   "pygments_lexer": "ipython3",
   "version": "3.9.13"
  }
 },
 "nbformat": 4,
 "nbformat_minor": 5
}
